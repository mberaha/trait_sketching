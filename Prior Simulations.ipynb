{
 "cells": [
  {
   "cell_type": "code",
   "execution_count": 1,
   "id": "ab069b75",
   "metadata": {},
   "outputs": [],
   "source": [
    "import jax.numpy as jnp\n",
    "\n",
    "import pickle\n",
    "import numpy as np\n",
    "\n",
    "from pysketch.utils import log_gen_fac"
   ]
  },
  {
   "cell_type": "markdown",
   "id": "f90ff719",
   "metadata": {},
   "source": [
    "# Full Sketch DP vs PY"
   ]
  },
  {
   "cell_type": "code",
   "execution_count": 2,
   "id": "2fe1eb94",
   "metadata": {},
   "outputs": [],
   "source": [
    "from pysketch.species import py_pred_full, dp_pred, py_pred_single"
   ]
  },
  {
   "cell_type": "code",
   "execution_count": 9,
   "id": "d494fa39",
   "metadata": {},
   "outputs": [],
   "source": [
    "J = 10\n",
    "\n",
    "sketches = []\n",
    "js = []\n",
    "\n",
    "sketch = np.ones(J) * 50 / J\n",
    "sketch = np.array(sketch, dtype=np.int32)\n",
    "sketches.append(sketch)\n",
    "js.append(5)\n",
    "\n",
    "\n",
    "probs = 1 / (4 + np.arange(1, J+1)) ** 2\n",
    "probs = probs / np.sum(probs)\n",
    "sketch = np.array(55 * probs, dtype=np.int32)\n",
    "sketches.append(sketch)\n",
    "js.append(3)\n",
    "\n",
    "\n",
    "probs = 1 / (4 + np.arange(1, J+1))\n",
    "probs = probs / np.sum(probs)\n",
    "sketch = np.array(55 * probs, dtype=np.int32)\n",
    "sketches.append(sketch)\n",
    "js.append(3)"
   ]
  },
  {
   "cell_type": "code",
   "execution_count": null,
   "id": "19ee6086",
   "metadata": {},
   "outputs": [],
   "source": [
    "py_pmfs_all = []\n",
    "gamma = 1\n",
    "sigmas = [0.1, 0.3, 0.5]\n",
    "\n",
    "for sigma in sigmas:\n",
    "    print(\"sigma: \", sigma)\n",
    "    log_gen_fac_table = jnp.array(log_gen_fac(sigma, 1000))\n",
    "    py_pmfs = []\n",
    "    for sketch, j in zip(sketches, js):\n",
    "        print(sketch)\n",
    "        sketch = jnp.array(sketch)\n",
    "        l_max = sketch[j] + 1\n",
    "        curr = py_pred_full(l_max, sketch, gamma, sigma, j, J, log_gen_fac_table)\n",
    "        py_pmfs.append((np.arange(l_max), curr))\n",
    "        \n",
    "    py_pmfs_all.append(py_pmfs)\n",
    "    \n",
    "with open(\"py_pmfs_all_sigmas.pickle\", \"wb\") as fp:\n",
    "    out = {\"gamma\": gamma, \"sketches\": sketches, \"js\": js, \"sigmas\": sigmas,\n",
    "          \"py_pmfs\": py_pmfs_all}\n",
    "    pickle.dump(out, fp)"
   ]
  },
  {
   "cell_type": "code",
   "execution_count": 6,
   "id": "71f7c4f1",
   "metadata": {},
   "outputs": [],
   "source": [
    "py_pmfs_single = []\n",
    "gamma = 1\n",
    "sigmas = [0.1, 0.3, 0.5]\n",
    "J = 10\n",
    "\n",
    "for sigma in sigmas:\n",
    "    log_gen_fac_table = jnp.array(log_gen_fac(sigma, 1000))\n",
    "    py_pmfs_single.append(py_pred_single(5, 5, 50, gamma, sigma, J, log_gen_fac_table))\n",
    "    \n",
    "with open(\"py_pmfs_single_sigmas.pickle\", \"wb\") as fp:\n",
    "    out = {\"gamma\": gamma, \"sigmas\": sigmas,\n",
    "          \"py_pmfs\": py_pmfs_single}\n",
    "    pickle.dump(out, fp)"
   ]
  },
  {
   "cell_type": "code",
   "execution_count": 10,
   "id": "c205ca64",
   "metadata": {},
   "outputs": [],
   "source": [
    "dp_pmf = dp_pred(5, sketches[-1], gamma, js[-1], J)\n",
    "\n",
    "with open(\"dp_pmf.pickle\", \"wb\") as fp:\n",
    "    out = {\"gamma\": gamma, \"dp_pmf\": dp_pmf}\n",
    "    pickle.dump(out, fp)"
   ]
  },
  {
   "cell_type": "markdown",
   "id": "d2705994",
   "metadata": {},
   "source": [
    "# Single Bucket Posteriors"
   ]
  },
  {
   "cell_type": "code",
   "execution_count": null,
   "id": "60cea68c",
   "metadata": {},
   "outputs": [],
   "source": [
    "from pysketc.traits import ngg_pred_single"
   ]
  },
  {
   "cell_type": "code",
   "execution_count": null,
   "id": "22b10b58",
   "metadata": {},
   "outputs": [],
   "source": [
    "import pickle\n",
    "\n",
    "m = 100\n",
    "c = 10\n",
    "J = 10\n",
    "\n",
    "l_max = c\n",
    "\n",
    "\n",
    "theta = 2\n",
    "sigmas = [0, 0.25, 0.5, 0.75]\n",
    "py_lpmfs = []\n",
    "for sig in sigmas:\n",
    "    if sig == 0:\n",
    "        py_lpmfs.append(dp_lpmf(l_max, c, m, theta, J))\n",
    "    else:\n",
    "        log_gen_fac_table = log_gen_fac(sigma, 120)\n",
    "        py_lpmfs.append(py_lpmf_single(l_max, c, m, theta, sigma, J, log_gen_fac_table))\n",
    "\n",
    "with open(\"py_lpmfs_single_new.pickle\", \"wb\") as fp:\n",
    "    out = {\"m\": m, \"c\": c, \"J\": J, \"theta\": theta, \"sigmas\": sigmas,\n",
    "           \"lpmfs\": py_lpmfs}\n",
    "    pickle.dump(out, fp)"
   ]
  },
  {
   "cell_type": "code",
   "execution_count": null,
   "id": "1ca9ff8d",
   "metadata": {},
   "outputs": [],
   "source": [
    "fig, axes = plt.subplots(nrows=1, ncols=len(sigmas), figsize=(15, 5))\n",
    "\n",
    "for i in range(len(sigmas)):\n",
    "    x = np.arange(l_max + 1)\n",
    "    axes[i].bar(x, py_lpmfs[i])\n",
    "    axes[i].set_title(\"Gamma: {0}, sigma: {1}\".format(theta, sigmas[i]), fontsize=15)\n",
    "    axes[i].set_ylim((0, 0.6))\n",
    "plt.savefig(\"py_lpmfs_single_new.pdf\")"
   ]
  },
  {
   "cell_type": "code",
   "execution_count": null,
   "id": "a4881dca",
   "metadata": {},
   "outputs": [],
   "source": [
    "sigma = 0.25\n",
    "log_gen_fac_table = log_gen_fac(sigma, 120)\n",
    "\n",
    "betas = [0.3, 0.7, 1.1, 1.5]\n",
    "ngg_lpmfs = []\n",
    "for beta in betas:\n",
    "    ngg_lpmfs.append(ngg_pred_single(l_max, c, m, sigma, beta, J))\n",
    "    \n",
    "    \n",
    "with open(\"ngg_lpmfs_single_new.pickle\", \"wb\") as fp:\n",
    "    out = {\"m\": m, \"c\": c, \"J\": J, \"sigma\": sigma, \"betas\": betas,\n",
    "           \"lpmfs\": ngg_lpmfs}\n",
    "    pickle.dump(out, fp)"
   ]
  },
  {
   "cell_type": "code",
   "execution_count": null,
   "id": "d5b2b33d",
   "metadata": {},
   "outputs": [],
   "source": [
    "sigma2 = 0.75\n",
    "log_gen_fac_table = log_gen_fac(sigma, 120)\n",
    "\n",
    "betas = [0.3, 0.7, 1.1, 1.5]\n",
    "ngg_lpmfs2 = []\n",
    "for beta in betas:\n",
    "    ngg_lpmfs2.append(ngg_pred_single(l_max, c, m, sigma2, beta, J))\n",
    "    \n",
    "    \n",
    "with open(\"ngg_lpmfs_single2_new.pickle\", \"wb\") as fp:\n",
    "    out = {\"m\": m, \"c\": c, \"J\": J, \"sigma\": sigma, \"betas\": betas,\n",
    "           \"lpmfs\": ngg_lpmfs2}\n",
    "    pickle.dump(out, fp)"
   ]
  },
  {
   "cell_type": "markdown",
   "id": "c003a073",
   "metadata": {},
   "source": [
    "# Trait Sketch: Poisson likelihood"
   ]
  },
  {
   "cell_type": "code",
   "execution_count": null,
   "id": "15cad2af",
   "metadata": {},
   "outputs": [],
   "source": [
    "from pysketch.trait import poisson_gamma_pred, poisson_gg_pred"
   ]
  },
  {
   "cell_type": "code",
   "execution_count": null,
   "id": "8eda5f35",
   "metadata": {},
   "outputs": [],
   "source": [
    "m = 1000\n",
    "c = 50\n",
    "bs = [5, 10, 15]\n",
    "as_ = [1, 2, 3, 4]\n",
    "\n",
    "theta = 0.3\n",
    "J = 50\n",
    "\n",
    "l = np.arange(c+1)\n",
    "\n",
    "fig, axes = plt.subplots(nrows=len(as_), ncols=len(bs), figsize=(15, 15))\n",
    "axes = axes.flat\n",
    "\n",
    "tau = 1\n",
    "r = 1\n",
    "\n",
    "sigmas = [0.25, 0.75]\n",
    "\n",
    "for i, (a, b) in enumerate(product(as_, bs)):\n",
    "    poi_pmf = np.exp(poisson_gamma_pred(l, c, b, a, theta, J))\n",
    "    poi_pmf /= np.sum(poi_pmf)\n",
    "    axes[i].bar(l, poi_pmf, alpha = 0.15)\n",
    "    axes[i].plot(l, poi_pmf, lw=3, label= \"Gamma\")\n",
    "    axes[i].set_title(\"a: {0}, b: {1}\".format(a, b), fontsize=15)\n",
    "\n",
    "for sigma in sigmas:\n",
    "    log_gen_fac_table = log_gen_fac(sigma, 1000)\n",
    "\n",
    "    for i, (a, b) in enumerate(product(as_, bs)):\n",
    "        poi_pmf = softmax(poisson_gg_pred(l, c, b, a, m, theta, sigma, tau, r, J))\n",
    "        axes[i].bar(l, poi_pmf, alpha = 0.15)\n",
    "        axes[i].plot(l, poi_pmf, lw=3, label= \"GG, sigma: {0}\".format(sigma))\n",
    "\n",
    "        \n",
    "    plt.tight_layout()\n",
    "plt.savefig(\"poi_post_new.pdf\", bbox_inches=\"tight\")\n",
    "\n",
    "# plt.plot(poi_lpmf)\n",
    "# plt.plot(softmax(dp_pred(l, c, theta, J)))"
   ]
  }
 ],
 "metadata": {
  "kernelspec": {
   "display_name": "Python 3 (ipykernel)",
   "language": "python",
   "name": "python3"
  },
  "language_info": {
   "codemirror_mode": {
    "name": "ipython",
    "version": 3
   },
   "file_extension": ".py",
   "mimetype": "text/x-python",
   "name": "python",
   "nbconvert_exporter": "python",
   "pygments_lexer": "ipython3",
   "version": "3.10.2"
  }
 },
 "nbformat": 4,
 "nbformat_minor": 5
}
